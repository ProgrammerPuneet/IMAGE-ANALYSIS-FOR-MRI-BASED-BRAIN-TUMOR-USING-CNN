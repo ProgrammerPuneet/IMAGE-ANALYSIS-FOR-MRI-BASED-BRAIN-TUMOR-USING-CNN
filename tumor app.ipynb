{
 "cells": [
  {
   "cell_type": "code",
   "execution_count": 1,
   "metadata": {},
   "outputs": [],
   "source": [
    "from flask import Flask, request, jsonify, render_template\n",
    "import os\n",
    "\n",
    "from utils.utils import decodeImage\n",
    "from predict import traffic"
   ]
  },
  {
   "cell_type": "code",
   "execution_count": 2,
   "metadata": {},
   "outputs": [],
   "source": [
    "from flask_cors import CORS, cross_origin"
   ]
  },
  {
   "cell_type": "code",
   "execution_count": 3,
   "metadata": {},
   "outputs": [
    {
     "data": {
      "text/plain": [
       "<flask_cors.extension.CORS at 0x2e5525e9d00>"
      ]
     },
     "execution_count": 3,
     "metadata": {},
     "output_type": "execute_result"
    }
   ],
   "source": [
    "os.putenv('LANG', 'en_US.UTF-8')\n",
    "os.putenv('LC_ALL', 'en_US.UTF-8')\n",
    "\n",
    "app = Flask(__name__)\n",
    "CORS(app)\n"
   ]
  },
  {
   "cell_type": "code",
   "execution_count": null,
   "metadata": {},
   "outputs": [],
   "source": [
    "#@cross_origin()\n",
    "class ClientApp:\n",
    "    def __init__(self):\n",
    "        self.filename = \"inputImage.jpg\"\n",
    "        self.classifier = traffic(self.filename)\n",
    "\n",
    "\n",
    "\n",
    "@app.route(\"/\", methods=['GET'])\n",
    "@cross_origin()\n",
    "def home():\n",
    "    return render_template('index.html')\n",
    "    \n",
    "\n",
    "\n",
    "@app.route(\"/predict\", methods=['POST'])\n",
    "@cross_origin()\n",
    "def predictRoute():\n",
    "    image = request.json['image']\n",
    "    decodeImage(image, clApp.filename)\n",
    "    result = clApp.classifier.trafficsign()\n",
    "    return jsonify(result)\n",
    "\n",
    "\n",
    "#port = int(os.getenv(\"PORT\"))\n",
    "if __name__ == \"__main__\":\n",
    "    clApp = ClientApp()\n",
    "    app.run(host='127.0.0.1', port=5000)\n",
    "    \n"
   ]
  },
  {
   "cell_type": "code",
   "execution_count": null,
   "metadata": {},
   "outputs": [],
   "source": []
  }
 ],
 "metadata": {
  "kernelspec": {
   "display_name": "Python 3",
   "language": "python",
   "name": "python3"
  },
  "language_info": {
   "codemirror_mode": {
    "name": "ipython",
    "version": 3
   },
   "file_extension": ".py",
   "mimetype": "text/x-python",
   "name": "python",
   "nbconvert_exporter": "python",
   "pygments_lexer": "ipython3",
   "version": "3.8.5"
  }
 },
 "nbformat": 4,
 "nbformat_minor": 4
}
